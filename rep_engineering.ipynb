{
 "cells": [
  {
   "cell_type": "code",
   "execution_count": 1,
   "id": "149427c9-8239-4c89-9932-e1beb60a608d",
   "metadata": {},
   "outputs": [],
   "source": [
    "import json\n",
    "import torch\n",
    "from transformers import AutoModelForCausalLM, AutoTokenizer"
   ]
  },
  {
   "cell_type": "code",
   "execution_count": 2,
   "id": "07dcef5b-cf68-4ebf-8e6d-6c56cc5d0ad4",
   "metadata": {},
   "outputs": [],
   "source": [
    "from repeng import ControlVector, ControlModel, DatasetEntry"
   ]
  },
  {
   "cell_type": "code",
   "execution_count": 4,
   "id": "acd53b76-560c-4c8d-ac4f-c5f8f4b7cee9",
   "metadata": {},
   "outputs": [
    {
     "data": {
      "application/vnd.jupyter.widget-view+json": {
       "model_id": "f061cd8ce0654bd09656da3b923b3eea",
       "version_major": 2,
       "version_minor": 0
      },
      "text/plain": [
       "config.json:   0%|          | 0.00/571 [00:00<?, ?B/s]"
      ]
     },
     "metadata": {},
     "output_type": "display_data"
    },
    {
     "data": {
      "application/vnd.jupyter.widget-view+json": {
       "model_id": "6a5fa281d3b043b9922f74a63a5053b4",
       "version_major": 2,
       "version_minor": 0
      },
      "text/plain": [
       "model.safetensors.index.json: 0.00B [00:00, ?B/s]"
      ]
     },
     "metadata": {},
     "output_type": "display_data"
    },
    {
     "data": {
      "application/vnd.jupyter.widget-view+json": {
       "model_id": "63f583eab64444c9bc5baea648d38632",
       "version_major": 2,
       "version_minor": 0
      },
      "text/plain": [
       "Fetching 2 files:   0%|          | 0/2 [00:00<?, ?it/s]"
      ]
     },
     "metadata": {},
     "output_type": "display_data"
    },
    {
     "data": {
      "application/vnd.jupyter.widget-view+json": {
       "model_id": "7f1258d5e3bf4f0892a429d45661474c",
       "version_major": 2,
       "version_minor": 0
      },
      "text/plain": [
       "model-00002-of-00002.safetensors:   0%|          | 0.00/4.54G [00:00<?, ?B/s]"
      ]
     },
     "metadata": {},
     "output_type": "display_data"
    },
    {
     "data": {
      "application/vnd.jupyter.widget-view+json": {
       "model_id": "7e8cbd140d054ff0865821d53700c8b3",
       "version_major": 2,
       "version_minor": 0
      },
      "text/plain": [
       "model-00001-of-00002.safetensors:   0%|          | 0.00/9.94G [00:00<?, ?B/s]"
      ]
     },
     "metadata": {},
     "output_type": "display_data"
    },
    {
     "data": {
      "application/vnd.jupyter.widget-view+json": {
       "model_id": "d628eff186d9427fa6b4a451dbb8c704",
       "version_major": 2,
       "version_minor": 0
      },
      "text/plain": [
       "Loading checkpoint shards:   0%|          | 0/2 [00:00<?, ?it/s]"
      ]
     },
     "metadata": {},
     "output_type": "display_data"
    },
    {
     "data": {
      "application/vnd.jupyter.widget-view+json": {
       "model_id": "bd8f62ae75b441ee91145f07b0044bac",
       "version_major": 2,
       "version_minor": 0
      },
      "text/plain": [
       "generation_config.json:   0%|          | 0.00/116 [00:00<?, ?B/s]"
      ]
     },
     "metadata": {},
     "output_type": "display_data"
    }
   ],
   "source": [
    "model_name = \"mistralai/Mistral-7B-Instruct-v0.1\"\n",
    "model = AutoModelForCausalLM.from_pretrained(model_name,torch_dtype = torch.float16,cache_dir=\"./hf_cache\")\n",
    "model = ControlModel(model, list(range(-5,-18,-1)))"
   ]
  },
  {
   "cell_type": "code",
   "execution_count": 6,
   "id": "97d468af-7920-4152-8c20-6573fc23d045",
   "metadata": {},
   "outputs": [],
   "source": [
    "from repeng import DatasetEntry\n",
    "from typing import List\n",
    "\n",
    "def make_dataset(\n",
    "    template:str,\n",
    "    pos_personas: List[str],\n",
    "    neg_personas: List[str],\n",
    "    suffixes: List[str],\n",
    ") -> List[DatasetEntry]:\n",
    "    dataset: List[DatasetEntry] = []\n",
    "    for suffix in suffixes:\n",
    "        for pos, neg in zip(pos_personas, neg_personas):\n",
    "            positive_prompt = template.format(persona=pos) + \" \" + suffix\n",
    "            negative_prompt = template.format(persona=neg) + \" \" + suffix\n",
    "            dataset.append(DatasetEntry(positive = positive_prompt, negative = negative_prompt))\n",
    "\n",
    "    return dataset"
   ]
  },
  {
   "cell_type": "code",
   "execution_count": 8,
   "id": "dd11abd1-d4ac-40b9-b237-2a4a5414441e",
   "metadata": {},
   "outputs": [],
   "source": [
    "truncated_output_suffixes = [\n",
    "    \"and explain how you would react\",\n",
    "    \"and describe what kinda person you are\"\n",
    "]"
   ]
  },
  {
   "cell_type": "code",
   "execution_count": 10,
   "id": "108a2ded-64b1-464d-9052-741db4f7778c",
   "metadata": {},
   "outputs": [],
   "source": [
    "trippy_dataset = make_dataset(\n",
    "    \"Act as if you are extremely {persona}\",\n",
    "    [\"High on psychedelic drugs\"],\n",
    "    [\"sober from psychedelic drugs\"],\n",
    "    truncated_output_suffixes\n",
    ")"
   ]
  },
  {
   "cell_type": "code",
   "execution_count": 11,
   "id": "50042dba-0840-4ab1-944e-586722a64a01",
   "metadata": {},
   "outputs": [
    {
     "data": {
      "text/plain": [
       "[DatasetEntry(positive='Act as if you are extremely High on psychedelic drugs and explain how you would react', negative='Act as if you are extremely sober from psychedelic drugs and explain how you would react'),\n",
       " DatasetEntry(positive='Act as if you are extremely High on psychedelic drugs and describe what kinda person you are', negative='Act as if you are extremely sober from psychedelic drugs and describe what kinda person you are')]"
      ]
     },
     "execution_count": 11,
     "metadata": {},
     "output_type": "execute_result"
    }
   ],
   "source": [
    "trippy_dataset"
   ]
  },
  {
   "cell_type": "code",
   "execution_count": 15,
   "id": "1a1f48e8-795c-4b49-b2fc-7409a281e44a",
   "metadata": {},
   "outputs": [
    {
     "name": "stderr",
     "output_type": "stream",
     "text": [
      "100%|████████████████████████████████████████████████████████████████████████████████████████████████████████████████████████████████████████████████████| 1/1 [01:31<00:00, 91.52s/it]\n",
      "100%|█████████████████████████████████████████████████████████████████████████████████████████████████████████████████████████████████████████████████████████| 31/31 [00:00<00:00, 89.03it/s]\n"
     ]
    }
   ],
   "source": [
    "tokenizer = AutoTokenizer.from_pretrained(\n",
    "    model_name,\n",
    "    cache_dir=\"./hf_cache\"\n",
    ")\n",
    "tokenizer.pad_token = tokenizer.eos_token\n",
    "tokenizer.padding_side = \"right\"\n",
    "trippy_vector = ControlVector.train(model, tokenizer, trippy_dataset)\n"
   ]
  },
  {
   "cell_type": "code",
   "execution_count": 17,
   "id": "1d6d3c94-6507-40e9-adf1-31cd978f1948",
   "metadata": {},
   "outputs": [
    {
     "name": "stderr",
     "output_type": "stream",
     "text": [
      "Setting `pad_token_id` to `eos_token_id`:2 for open-end generation.\n",
      "Setting `pad_token_id` to `eos_token_id`:2 for open-end generation.\n",
      "Setting `pad_token_id` to `eos_token_id`:2 for open-end generation.\n"
     ]
    }
   ],
   "source": [
    "for strength in (-2.2, 1, 2.2):\n",
    "    model.set_control(trippy_vector, strength)\n",
    "    out = model.generate(\n",
    "        **tokenizer(\n",
    "            f\"[INST] Give me a one sentence pitch for a TV show.\",\n",
    "            return_tensors=\"pt\"\n",
    "        ),\n",
    "        do_sample = False,\n",
    "        max_new_tokens=128,\n",
    "        repetition_penalty = 1.1,\n",
    "    )\n",
    "\n",
    "    "
   ]
  },
  {
   "cell_type": "code",
   "execution_count": 18,
   "id": "b35f7fe0-b7d1-4d5d-9c23-a2f5a96a2a27",
   "metadata": {},
   "outputs": [
    {
     "name": "stdout",
     "output_type": "stream",
     "text": [
      "<s> [INST] Give me a one sentence pitch for a TV show.\n",
      "\n",
      "Without giving away too much, tell me about the overall premise of your show.\n",
      "\n",
      "What is the general tone and style of your show?\n",
      "\n",
      "What are some of the main themes and topics that you explore in your show?\n",
      "\n",
      "What kind of people and characters will we see on your show?\n",
      "\n",
      "What is the overall message or lesson that you hope to convey through your show?</s>\n"
     ]
    }
   ],
   "source": [
    "print(tokenizer.decode(out.squeeze()).strip())"
   ]
  }
 ],
 "metadata": {
  "kernelspec": {
   "display_name": "base",
   "language": "python",
   "name": "base"
  },
  "language_info": {
   "codemirror_mode": {
    "name": "ipython",
    "version": 3
   },
   "file_extension": ".py",
   "mimetype": "text/x-python",
   "name": "python",
   "nbconvert_exporter": "python",
   "pygments_lexer": "ipython3",
   "version": "3.13.5"
  }
 },
 "nbformat": 4,
 "nbformat_minor": 5
}
